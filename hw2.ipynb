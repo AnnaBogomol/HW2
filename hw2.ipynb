{
  "nbformat": 4,
  "nbformat_minor": 0,
  "metadata": {
    "kernelspec": {
      "display_name": "Python 3",
      "language": "python",
      "name": "python3"
    },
    "language_info": {
      "codemirror_mode": {
        "name": "ipython",
        "version": 3
      },
      "file_extension": ".py",
      "mimetype": "text/x-python",
      "name": "python",
      "nbconvert_exporter": "python",
      "pygments_lexer": "ipython3",
      "version": "3.7.6"
    },
    "colab": {
      "name": "Anna3.ipynb",
      "provenance": [],
      "collapsed_sections": []
    }
  },
  "cells": [
    {
      "cell_type": "code",
      "metadata": {
        "id": "09KMleLp1MFp",
        "colab_type": "code",
        "colab": {}
      },
      "source": [
        "import pandas as pd\n",
        "import seaborn as sns\n",
        "import matplotlib.pyplot as plt\n",
        "import numpy as np\n",
        "cartier = pd.read_csv('cartier_catalog.csv') # читаем датасет"
      ],
      "execution_count": 0,
      "outputs": []
    },
    {
      "cell_type": "code",
      "metadata": {
        "id": "q-GXLdOw1MF7",
        "colab_type": "code",
        "outputId": "05bde223-b314-42c6-9f3a-a46e63e3ddd8",
        "colab": {
          "base_uri": "https://localhost:8080/",
          "height": 538
        }
      },
      "source": [
        "cartier # смотрим датасет"
      ],
      "execution_count": 4,
      "outputs": [
        {
          "output_type": "execute_result",
          "data": {
            "text/html": [
              "<div>\n",
              "<style scoped>\n",
              "    .dataframe tbody tr th:only-of-type {\n",
              "        vertical-align: middle;\n",
              "    }\n",
              "\n",
              "    .dataframe tbody tr th {\n",
              "        vertical-align: top;\n",
              "    }\n",
              "\n",
              "    .dataframe thead th {\n",
              "        text-align: right;\n",
              "    }\n",
              "</style>\n",
              "<table border=\"1\" class=\"dataframe\">\n",
              "  <thead>\n",
              "    <tr style=\"text-align: right;\">\n",
              "      <th></th>\n",
              "      <th>ref</th>\n",
              "      <th>categorie</th>\n",
              "      <th>title</th>\n",
              "      <th>price</th>\n",
              "      <th>tags</th>\n",
              "      <th>description</th>\n",
              "      <th>image</th>\n",
              "    </tr>\n",
              "  </thead>\n",
              "  <tbody>\n",
              "    <tr>\n",
              "      <th>0</th>\n",
              "      <td>B4084600</td>\n",
              "      <td>rings</td>\n",
              "      <td>Love ring</td>\n",
              "      <td>1650.0</td>\n",
              "      <td>yellow gold</td>\n",
              "      <td>Love ring, 18K yellow gold. Width: 5.5mm.</td>\n",
              "      <td>/content/dam/rcq/car/58/71/74/587174.png</td>\n",
              "    </tr>\n",
              "    <tr>\n",
              "      <th>1</th>\n",
              "      <td>B4084900</td>\n",
              "      <td>rings</td>\n",
              "      <td>Love ring</td>\n",
              "      <td>3650.0</td>\n",
              "      <td>platinum</td>\n",
              "      <td>Love ring, 950/1000 platinum. Width: 5.5mm.</td>\n",
              "      <td>/content/dam/rcq/car/19/43/98/1/1943981.png</td>\n",
              "    </tr>\n",
              "    <tr>\n",
              "      <th>2</th>\n",
              "      <td>B4084800</td>\n",
              "      <td>rings</td>\n",
              "      <td>Love ring</td>\n",
              "      <td>1650.0</td>\n",
              "      <td>pink gold</td>\n",
              "      <td>Love ring, 18K rose gold. Width: 5.5mm.</td>\n",
              "      <td>/content/dam/rcq/car/10/28/64/0/1028640.png</td>\n",
              "    </tr>\n",
              "    <tr>\n",
              "      <th>3</th>\n",
              "      <td>B4084700</td>\n",
              "      <td>rings</td>\n",
              "      <td>Love ring</td>\n",
              "      <td>1770.0</td>\n",
              "      <td>white gold</td>\n",
              "      <td>Love ring, 18K white gold. Width: 5.5mm.</td>\n",
              "      <td>/content/dam/rcq/car/10/28/63/6/1028636.png</td>\n",
              "    </tr>\n",
              "    <tr>\n",
              "      <th>4</th>\n",
              "      <td>B4085000</td>\n",
              "      <td>rings</td>\n",
              "      <td>Love wedding band</td>\n",
              "      <td>1070.0</td>\n",
              "      <td>yellow gold</td>\n",
              "      <td>Love wedding band, 18K yellow gold. Width: 3.6mm.</td>\n",
              "      <td>/content/dam/rcq/car/59/18/04/591804.png</td>\n",
              "    </tr>\n",
              "    <tr>\n",
              "      <th>...</th>\n",
              "      <td>...</td>\n",
              "      <td>...</td>\n",
              "      <td>...</td>\n",
              "      <td>...</td>\n",
              "      <td>...</td>\n",
              "      <td>...</td>\n",
              "      <td>...</td>\n",
              "    </tr>\n",
              "    <tr>\n",
              "      <th>687</th>\n",
              "      <td>B8301416</td>\n",
              "      <td>earrings</td>\n",
              "      <td>Clash de Cartier earrings Small Model</td>\n",
              "      <td>7500.0</td>\n",
              "      <td>pink gold</td>\n",
              "      <td>Clash de Cartier earrings, small model, 18K pi...</td>\n",
              "      <td>/content/dam/rcq/car/19/15/81/7/1915817.png</td>\n",
              "    </tr>\n",
              "    <tr>\n",
              "      <th>688</th>\n",
              "      <td>B8301415</td>\n",
              "      <td>earrings</td>\n",
              "      <td>Clash de Cartier earrings Small Model</td>\n",
              "      <td>3900.0</td>\n",
              "      <td>pink gold</td>\n",
              "      <td>Clash de Cartier earrings, small model, 18K pi...</td>\n",
              "      <td>/content/dam/rcq/car/19/15/81/5/1915815.png</td>\n",
              "    </tr>\n",
              "    <tr>\n",
              "      <th>689</th>\n",
              "      <td>N8515173</td>\n",
              "      <td>earrings</td>\n",
              "      <td>Clash de Cartier earrings Diamonds</td>\n",
              "      <td>13700.0</td>\n",
              "      <td>pink gold, diamonds</td>\n",
              "      <td>Clash de Cartier earrings, 18K pink gold, each...</td>\n",
              "      <td>/content/dam/rcq/car/18/12/45/3/1812453.png</td>\n",
              "    </tr>\n",
              "    <tr>\n",
              "      <th>690</th>\n",
              "      <td>N8515218</td>\n",
              "      <td>earrings</td>\n",
              "      <td>Clash de Cartier earring Large Model</td>\n",
              "      <td>13700.0</td>\n",
              "      <td>pink gold, amazonite</td>\n",
              "      <td>Clash de Cartier earring, large model, 18K pin...</td>\n",
              "      <td>/content/dam/rcq/car/20/35/93/8/2035938.png</td>\n",
              "    </tr>\n",
              "    <tr>\n",
              "      <th>691</th>\n",
              "      <td>N8515174</td>\n",
              "      <td>earrings</td>\n",
              "      <td>Clash de Cartier earrings XL Model</td>\n",
              "      <td>12500.0</td>\n",
              "      <td>yellow gold, coral</td>\n",
              "      <td>Clash de Cartier earrings, XL model, 18K yello...</td>\n",
              "      <td>/content/dam/rcq/car/20/25/61/4/2025614.png</td>\n",
              "    </tr>\n",
              "  </tbody>\n",
              "</table>\n",
              "<p>692 rows × 7 columns</p>\n",
              "</div>"
            ],
            "text/plain": [
              "           ref  ...                                        image\n",
              "0     B4084600  ...     /content/dam/rcq/car/58/71/74/587174.png\n",
              "1     B4084900  ...  /content/dam/rcq/car/19/43/98/1/1943981.png\n",
              "2     B4084800  ...  /content/dam/rcq/car/10/28/64/0/1028640.png\n",
              "3     B4084700  ...  /content/dam/rcq/car/10/28/63/6/1028636.png\n",
              "4     B4085000  ...     /content/dam/rcq/car/59/18/04/591804.png\n",
              "..         ...  ...                                          ...\n",
              "687   B8301416  ...  /content/dam/rcq/car/19/15/81/7/1915817.png\n",
              "688   B8301415  ...  /content/dam/rcq/car/19/15/81/5/1915815.png\n",
              "689   N8515173  ...  /content/dam/rcq/car/18/12/45/3/1812453.png\n",
              "690   N8515218  ...  /content/dam/rcq/car/20/35/93/8/2035938.png\n",
              "691   N8515174  ...  /content/dam/rcq/car/20/25/61/4/2025614.png\n",
              "\n",
              "[692 rows x 7 columns]"
            ]
          },
          "metadata": {
            "tags": []
          },
          "execution_count": 4
        }
      ]
    },
    {
      "cell_type": "code",
      "metadata": {
        "id": "zAb2ZmZw1MGB",
        "colab_type": "code",
        "outputId": "276b3e7d-8ac8-48b7-9eb9-a4d8039ddc71",
        "colab": {
          "base_uri": "https://localhost:8080/",
          "height": 34
        }
      },
      "source": [
        "cartier.shape # считаем сколько столбцов и колонок (для общего представления размера датасета)"
      ],
      "execution_count": 5,
      "outputs": [
        {
          "output_type": "execute_result",
          "data": {
            "text/plain": [
              "(692, 7)"
            ]
          },
          "metadata": {
            "tags": []
          },
          "execution_count": 5
        }
      ]
    },
    {
      "cell_type": "markdown",
      "metadata": {
        "id": "1HEL5fH-5665",
        "colab_type": "text"
      },
      "source": [
        "Вопрос: как меняется цена на украшение в зависимости от вида камней, вида металла, и типа украшения?"
      ]
    },
    {
      "cell_type": "markdown",
      "metadata": {
        "id": "_SQbF5fl6L-Q",
        "colab_type": "text"
      },
      "source": [
        "1) Для начала узнаем какие украшения преобладают"
      ]
    },
    {
      "cell_type": "code",
      "metadata": {
        "id": "_pNcSozV1MGT",
        "colab_type": "code",
        "colab": {}
      },
      "source": [
        "category = cartier[\"categorie\"] \n",
        "j_values = category.value_counts().to_frame() # создаем новый датафрейм с типами украшений и соответсвующим количеством\n",
        "j_values.reset_index(inplace=True)            # сортируем по кол-ву изделий\n",
        "j_values.columns = ['j_type' , 'count']"
      ],
      "execution_count": 0,
      "outputs": []
    },
    {
      "cell_type": "code",
      "metadata": {
        "id": "3s80gfQ_1MGb",
        "colab_type": "code",
        "outputId": "0d9dccac-da46-4d79-c01b-a09f20e260bf",
        "colab": {
          "base_uri": "https://localhost:8080/",
          "height": 173
        }
      },
      "source": [
        "j_values"
      ],
      "execution_count": 7,
      "outputs": [
        {
          "output_type": "execute_result",
          "data": {
            "text/html": [
              "<div>\n",
              "<style scoped>\n",
              "    .dataframe tbody tr th:only-of-type {\n",
              "        vertical-align: middle;\n",
              "    }\n",
              "\n",
              "    .dataframe tbody tr th {\n",
              "        vertical-align: top;\n",
              "    }\n",
              "\n",
              "    .dataframe thead th {\n",
              "        text-align: right;\n",
              "    }\n",
              "</style>\n",
              "<table border=\"1\" class=\"dataframe\">\n",
              "  <thead>\n",
              "    <tr style=\"text-align: right;\">\n",
              "      <th></th>\n",
              "      <th>j_type</th>\n",
              "      <th>count</th>\n",
              "    </tr>\n",
              "  </thead>\n",
              "  <tbody>\n",
              "    <tr>\n",
              "      <th>0</th>\n",
              "      <td>rings</td>\n",
              "      <td>259</td>\n",
              "    </tr>\n",
              "    <tr>\n",
              "      <th>1</th>\n",
              "      <td>bracelets</td>\n",
              "      <td>160</td>\n",
              "    </tr>\n",
              "    <tr>\n",
              "      <th>2</th>\n",
              "      <td>necklaces</td>\n",
              "      <td>155</td>\n",
              "    </tr>\n",
              "    <tr>\n",
              "      <th>3</th>\n",
              "      <td>earrings</td>\n",
              "      <td>118</td>\n",
              "    </tr>\n",
              "  </tbody>\n",
              "</table>\n",
              "</div>"
            ],
            "text/plain": [
              "      j_type  count\n",
              "0      rings    259\n",
              "1  bracelets    160\n",
              "2  necklaces    155\n",
              "3   earrings    118"
            ]
          },
          "metadata": {
            "tags": []
          },
          "execution_count": 7
        }
      ]
    },
    {
      "cell_type": "code",
      "metadata": {
        "id": "6HV6CDEo1MGk",
        "colab_type": "code",
        "colab": {}
      },
      "source": [
        "# строим столбчатую диаграмму\n",
        "color_dict1 = {'rings': \"blue\", \n",
        "              'bracelets': \"red\", \n",
        "              'necklaces': \"green\", \n",
        "              'earrings': \"yellow\"}"
      ],
      "execution_count": 0,
      "outputs": []
    },
    {
      "cell_type": "code",
      "metadata": {
        "id": "ZheerrU01MGq",
        "colab_type": "code",
        "outputId": "46ac71a9-3485-4488-87b9-d9048088805f",
        "colab": {
          "base_uri": "https://localhost:8080/",
          "height": 442
        }
      },
      "source": [
        "plt.figure(figsize=(15, 7))\n",
        "sns.barplot(x= 'j_type', y= 'count', data= j_values , palette = color_dict1)\n",
        "plt.xlabel('Тип украшения')\n",
        "plt.ylabel('Количество')\n",
        "plt.show()"
      ],
      "execution_count": 9,
      "outputs": [
        {
          "output_type": "display_data",
          "data": {
            "image/png": "[encoded data removed]",
            "text/plain": [
              "<Figure size 1080x504 with 1 Axes>"
            ]
          },
          "metadata": {
            "tags": [],
            "needs_background": "light"
          }
        }
      ]
    },
    {
      "cell_type": "markdown",
      "metadata": {
        "id": "JdumaP_y7DWN",
        "colab_type": "text"
      },
      "source": [
        "Вывод: больше всего в каталоге колец"
      ]
    },
    {
      "cell_type": "markdown",
      "metadata": {
        "id": "L54RLVuPh-8z",
        "colab_type": "text"
      },
      "source": [
        "2) Теперь посмотрим как цена колеблется в зависимости от типа украшения"
      ]
    },
    {
      "cell_type": "code",
      "metadata": {
        "id": "c98zNwwU1MG9",
        "colab_type": "code",
        "colab": {}
      },
      "source": [
        "cartier_gp0_gem = cartier.groupby([\"categorie\"])[\"price\"].mean().round(1).to_frame() # группируем столбцы категории и цены в новый датафрейм\n",
        "cartier_gp0_gem = cartier_gp0_gem.reset_index()                                      # и сразу же сопоставляем каждой категории среднюю цену"
      ],
      "execution_count": 0,
      "outputs": []
    },
    {
      "cell_type": "code",
      "metadata": {
        "id": "pYIbnJrY1MHG",
        "colab_type": "code",
        "outputId": "20d6312f-e399-4fd9-8dc1-2aeefa4f7edd",
        "colab": {
          "base_uri": "https://localhost:8080/",
          "height": 173
        }
      },
      "source": [
        "cartier_gp0_gem # проверяем датафрейм"
      ],
      "execution_count": 11,
      "outputs": [
        {
          "output_type": "execute_result",
          "data": {
            "text/html": [
              "<div>\n",
              "<style scoped>\n",
              "    .dataframe tbody tr th:only-of-type {\n",
              "        vertical-align: middle;\n",
              "    }\n",
              "\n",
              "    .dataframe tbody tr th {\n",
              "        vertical-align: top;\n",
              "    }\n",
              "\n",
              "    .dataframe thead th {\n",
              "        text-align: right;\n",
              "    }\n",
              "</style>\n",
              "<table border=\"1\" class=\"dataframe\">\n",
              "  <thead>\n",
              "    <tr style=\"text-align: right;\">\n",
              "      <th></th>\n",
              "      <th>categorie</th>\n",
              "      <th>price</th>\n",
              "    </tr>\n",
              "  </thead>\n",
              "  <tbody>\n",
              "    <tr>\n",
              "      <th>0</th>\n",
              "      <td>bracelets</td>\n",
              "      <td>44390.2</td>\n",
              "    </tr>\n",
              "    <tr>\n",
              "      <th>1</th>\n",
              "      <td>earrings</td>\n",
              "      <td>23653.4</td>\n",
              "    </tr>\n",
              "    <tr>\n",
              "      <th>2</th>\n",
              "      <td>necklaces</td>\n",
              "      <td>34155.6</td>\n",
              "    </tr>\n",
              "    <tr>\n",
              "      <th>3</th>\n",
              "      <td>rings</td>\n",
              "      <td>13652.2</td>\n",
              "    </tr>\n",
              "  </tbody>\n",
              "</table>\n",
              "</div>"
            ],
            "text/plain": [
              "   categorie    price\n",
              "0  bracelets  44390.2\n",
              "1   earrings  23653.4\n",
              "2  necklaces  34155.6\n",
              "3      rings  13652.2"
            ]
          },
          "metadata": {
            "tags": []
          },
          "execution_count": 11
        }
      ]
    },
    {
      "cell_type": "code",
      "metadata": {
        "id": "vmeakRsf1MHO",
        "colab_type": "code",
        "outputId": "051d8fe6-b97e-4b3f-db10-ecfe9b11bd5d",
        "colab": {
          "base_uri": "https://localhost:8080/",
          "height": 442
        }
      },
      "source": [
        "plt.figure(figsize=(15, 7)) # строим столбчатую диаграмму\n",
        "sns.barplot(x= 'categorie', y= 'price', data= cartier_gp0_gem , palette = color_dict1)\n",
        "plt.xlabel('Тип украшения')\n",
        "plt.ylabel('Средняя цена в $')\n",
        "plt.show()"
      ],
      "execution_count": 12,
      "outputs": [
        {
          "output_type": "display_data",
          "data": {
            "image/png": "[encoded data removed]",
            "text/plain": [
              "<Figure size 1080x504 with 1 Axes>"
            ]
          },
          "metadata": {
            "tags": [],
            "needs_background": "light"
          }
        }
      ]
    },
    {
      "cell_type": "markdown",
      "metadata": {
        "id": "xWLzTEHdi8b_",
        "colab_type": "text"
      },
      "source": [
        "Вывод: более дорогоими украшениями чаще оказываются браслеты и ожерелья, их средняя цена находится в районе 45к и 35к соответственно; более дешевые - серьги и кольца, со средней ценой в районе 24к и 14к соответственно"
      ]
    },
    {
      "cell_type": "markdown",
      "metadata": {
        "id": "VUTZvHqJjJRu",
        "colab_type": "text"
      },
      "source": [
        "3) Узнаем какие металлы в каких украшениях преобладают"
      ]
    },
    {
      "cell_type": "code",
      "metadata": {
        "id": "pVjYZ6o51MHi",
        "colab_type": "code",
        "colab": {}
      },
      "source": [
        "# Преобразуем наш датасет, добавляя новые колонки с хар-ми украшений\n",
        "def tag_spiliter(dataframe , col_name , delimiter , metal , first_gem , second_gem , third_gem , fourth_gem):\n",
        "    dataframe['str_split'] = dataframe[col_name].str.split(delimiter)\n",
        "    dataframe[metal] = dataframe.str_split.str.get(0).str.strip()\n",
        "    dataframe[first_gem] = dataframe.str_split.str.get(1).str.strip()\n",
        "    dataframe[second_gem] = dataframe.str_split.str.get(2).str.strip()\n",
        "    dataframe[third_gem] = dataframe.str_split.str.get(3).str.strip()\n",
        "    dataframe[fourth_gem] = dataframe.str_split.str.get(4).str.strip()\n",
        "    \n",
        "    dataframe.fillna('NA' , inplace=True)\n",
        "    del dataframe['str_split']\n",
        "tag_spiliter(cartier , 'tags' , ',' , 'metal' , 'gem' , 'second_gem' , 'third_gem' , 'fourth_gem')"
      ],
      "execution_count": 0,
      "outputs": []
    },
    {
      "cell_type": "code",
      "metadata": {
        "id": "tXh8B2_J1MHt",
        "colab_type": "code",
        "outputId": "9ee9d930-aa2a-4473-cc07-db674591da2d",
        "colab": {
          "base_uri": "https://localhost:8080/",
          "height": 179
        }
      },
      "source": [
        "cartier.head(2) # проверяем что получили"
      ],
      "execution_count": 14,
      "outputs": [
        {
          "output_type": "execute_result",
          "data": {
            "text/html": [
              "<div>\n",
              "<style scoped>\n",
              "    .dataframe tbody tr th:only-of-type {\n",
              "        vertical-align: middle;\n",
              "    }\n",
              "\n",
              "    .dataframe tbody tr th {\n",
              "        vertical-align: top;\n",
              "    }\n",
              "\n",
              "    .dataframe thead th {\n",
              "        text-align: right;\n",
              "    }\n",
              "</style>\n",
              "<table border=\"1\" class=\"dataframe\">\n",
              "  <thead>\n",
              "    <tr style=\"text-align: right;\">\n",
              "      <th></th>\n",
              "      <th>ref</th>\n",
              "      <th>categorie</th>\n",
              "      <th>title</th>\n",
              "      <th>price</th>\n",
              "      <th>tags</th>\n",
              "      <th>description</th>\n",
              "      <th>image</th>\n",
              "      <th>metal</th>\n",
              "      <th>gem</th>\n",
              "      <th>second_gem</th>\n",
              "      <th>third_gem</th>\n",
              "      <th>fourth_gem</th>\n",
              "    </tr>\n",
              "  </thead>\n",
              "  <tbody>\n",
              "    <tr>\n",
              "      <th>0</th>\n",
              "      <td>B4084600</td>\n",
              "      <td>rings</td>\n",
              "      <td>Love ring</td>\n",
              "      <td>1650.0</td>\n",
              "      <td>yellow gold</td>\n",
              "      <td>Love ring, 18K yellow gold. Width: 5.5mm.</td>\n",
              "      <td>/content/dam/rcq/car/58/71/74/587174.png</td>\n",
              "      <td>yellow gold</td>\n",
              "      <td>NA</td>\n",
              "      <td>NA</td>\n",
              "      <td>NA</td>\n",
              "      <td>NA</td>\n",
              "    </tr>\n",
              "    <tr>\n",
              "      <th>1</th>\n",
              "      <td>B4084900</td>\n",
              "      <td>rings</td>\n",
              "      <td>Love ring</td>\n",
              "      <td>3650.0</td>\n",
              "      <td>platinum</td>\n",
              "      <td>Love ring, 950/1000 platinum. Width: 5.5mm.</td>\n",
              "      <td>/content/dam/rcq/car/19/43/98/1/1943981.png</td>\n",
              "      <td>platinum</td>\n",
              "      <td>NA</td>\n",
              "      <td>NA</td>\n",
              "      <td>NA</td>\n",
              "      <td>NA</td>\n",
              "    </tr>\n",
              "  </tbody>\n",
              "</table>\n",
              "</div>"
            ],
            "text/plain": [
              "         ref categorie      title   price  ... gem second_gem third_gem fourth_gem\n",
              "0   B4084600     rings  Love ring  1650.0  ...  NA         NA        NA         NA\n",
              "1   B4084900     rings  Love ring  3650.0  ...  NA         NA        NA         NA\n",
              "\n",
              "[2 rows x 12 columns]"
            ]
          },
          "metadata": {
            "tags": []
          },
          "execution_count": 14
        }
      ]
    },
    {
      "cell_type": "code",
      "metadata": {
        "id": "2h5vq06w1MH1",
        "colab_type": "code",
        "colab": {}
      },
      "source": [
        "# удаляем лишние колонки/колонки не несущие полезной информации\n",
        "cartier.drop(['ref' , 'image' , 'tags' , 'title' , 'description'] , axis  = 1 , inplace=True)"
      ],
      "execution_count": 0,
      "outputs": []
    },
    {
      "cell_type": "code",
      "metadata": {
        "id": "Tgs1f4nf1MH5",
        "colab_type": "code",
        "outputId": "063b0ca0-1267-4ab8-b372-2008c04a8aa9",
        "colab": {
          "base_uri": "https://localhost:8080/",
          "height": 111
        }
      },
      "source": [
        "cartier.head(2) # проверяем результат"
      ],
      "execution_count": 16,
      "outputs": [
        {
          "output_type": "execute_result",
          "data": {
            "text/html": [
              "<div>\n",
              "<style scoped>\n",
              "    .dataframe tbody tr th:only-of-type {\n",
              "        vertical-align: middle;\n",
              "    }\n",
              "\n",
              "    .dataframe tbody tr th {\n",
              "        vertical-align: top;\n",
              "    }\n",
              "\n",
              "    .dataframe thead th {\n",
              "        text-align: right;\n",
              "    }\n",
              "</style>\n",
              "<table border=\"1\" class=\"dataframe\">\n",
              "  <thead>\n",
              "    <tr style=\"text-align: right;\">\n",
              "      <th></th>\n",
              "      <th>categorie</th>\n",
              "      <th>price</th>\n",
              "      <th>metal</th>\n",
              "      <th>gem</th>\n",
              "      <th>second_gem</th>\n",
              "      <th>third_gem</th>\n",
              "      <th>fourth_gem</th>\n",
              "    </tr>\n",
              "  </thead>\n",
              "  <tbody>\n",
              "    <tr>\n",
              "      <th>0</th>\n",
              "      <td>rings</td>\n",
              "      <td>1650.0</td>\n",
              "      <td>yellow gold</td>\n",
              "      <td>NA</td>\n",
              "      <td>NA</td>\n",
              "      <td>NA</td>\n",
              "      <td>NA</td>\n",
              "    </tr>\n",
              "    <tr>\n",
              "      <th>1</th>\n",
              "      <td>rings</td>\n",
              "      <td>3650.0</td>\n",
              "      <td>platinum</td>\n",
              "      <td>NA</td>\n",
              "      <td>NA</td>\n",
              "      <td>NA</td>\n",
              "      <td>NA</td>\n",
              "    </tr>\n",
              "  </tbody>\n",
              "</table>\n",
              "</div>"
            ],
            "text/plain": [
              "  categorie   price        metal gem second_gem third_gem fourth_gem\n",
              "0     rings  1650.0  yellow gold  NA         NA        NA         NA\n",
              "1     rings  3650.0     platinum  NA         NA        NA         NA"
            ]
          },
          "metadata": {
            "tags": []
          },
          "execution_count": 16
        }
      ]
    },
    {
      "cell_type": "code",
      "metadata": {
        "id": "BlFRAdlE1MIh",
        "colab_type": "code",
        "colab": {}
      },
      "source": [
        "gems = pd.concat([cartier[\"gem\"],cartier[\"second_gem\"],cartier[\"third_gem\"],cartier[\"fourth_gem\"]], axis= 0)\n",
        "gems_values = gems.value_counts()[1:].to_frame() # создаем новый датафрейм\n",
        "gems_values.reset_index(inplace=True)\n",
        "gems_values.columns = ['gem_type' , 'count']"
      ],
      "execution_count": 0,
      "outputs": []
    },
    {
      "cell_type": "code",
      "metadata": {
        "id": "rjNfU2Ak1MIl",
        "colab_type": "code",
        "outputId": "2b6dc4ef-5b90-4cf3-edc4-720cdfa7c3eb",
        "colab": {
          "base_uri": "https://localhost:8080/",
          "height": 1000
        }
      },
      "source": [
        "gems_values # смотрим что получилось"
      ],
      "execution_count": 18,
      "outputs": [
        {
          "output_type": "execute_result",
          "data": {
            "text/html": [
              "<div>\n",
              "<style scoped>\n",
              "    .dataframe tbody tr th:only-of-type {\n",
              "        vertical-align: middle;\n",
              "    }\n",
              "\n",
              "    .dataframe tbody tr th {\n",
              "        vertical-align: top;\n",
              "    }\n",
              "\n",
              "    .dataframe thead th {\n",
              "        text-align: right;\n",
              "    }\n",
              "</style>\n",
              "<table border=\"1\" class=\"dataframe\">\n",
              "  <thead>\n",
              "    <tr style=\"text-align: right;\">\n",
              "      <th></th>\n",
              "      <th>gem_type</th>\n",
              "      <th>count</th>\n",
              "    </tr>\n",
              "  </thead>\n",
              "  <tbody>\n",
              "    <tr>\n",
              "      <th>0</th>\n",
              "      <td>diamonds</td>\n",
              "      <td>431</td>\n",
              "    </tr>\n",
              "    <tr>\n",
              "      <th>1</th>\n",
              "      <td>onyx</td>\n",
              "      <td>90</td>\n",
              "    </tr>\n",
              "    <tr>\n",
              "      <th>2</th>\n",
              "      <td>emeralds</td>\n",
              "      <td>70</td>\n",
              "    </tr>\n",
              "    <tr>\n",
              "      <th>3</th>\n",
              "      <td>diamond</td>\n",
              "      <td>61</td>\n",
              "    </tr>\n",
              "    <tr>\n",
              "      <th>4</th>\n",
              "      <td>yellow gold</td>\n",
              "      <td>37</td>\n",
              "    </tr>\n",
              "    <tr>\n",
              "      <th>5</th>\n",
              "      <td>pink gold</td>\n",
              "      <td>37</td>\n",
              "    </tr>\n",
              "    <tr>\n",
              "      <th>6</th>\n",
              "      <td>tsavorite garnets</td>\n",
              "      <td>35</td>\n",
              "    </tr>\n",
              "    <tr>\n",
              "      <th>7</th>\n",
              "      <td>sapphires</td>\n",
              "      <td>19</td>\n",
              "    </tr>\n",
              "    <tr>\n",
              "      <th>8</th>\n",
              "      <td>ceramic</td>\n",
              "      <td>17</td>\n",
              "    </tr>\n",
              "    <tr>\n",
              "      <th>9</th>\n",
              "      <td>lacquer</td>\n",
              "      <td>11</td>\n",
              "    </tr>\n",
              "    <tr>\n",
              "      <th>10</th>\n",
              "      <td>mother-of-pearl</td>\n",
              "      <td>9</td>\n",
              "    </tr>\n",
              "    <tr>\n",
              "      <th>11</th>\n",
              "      <td>tsavorite garnet</td>\n",
              "      <td>8</td>\n",
              "    </tr>\n",
              "    <tr>\n",
              "      <th>12</th>\n",
              "      <td>black lacquer</td>\n",
              "      <td>8</td>\n",
              "    </tr>\n",
              "    <tr>\n",
              "      <th>13</th>\n",
              "      <td>white mother-of-pearl</td>\n",
              "      <td>7</td>\n",
              "    </tr>\n",
              "    <tr>\n",
              "      <th>14</th>\n",
              "      <td>lapis lazuli</td>\n",
              "      <td>5</td>\n",
              "    </tr>\n",
              "    <tr>\n",
              "      <th>15</th>\n",
              "      <td>white gold</td>\n",
              "      <td>5</td>\n",
              "    </tr>\n",
              "    <tr>\n",
              "      <th>16</th>\n",
              "      <td>spinels</td>\n",
              "      <td>4</td>\n",
              "    </tr>\n",
              "    <tr>\n",
              "      <th>17</th>\n",
              "      <td>chrysoprase</td>\n",
              "      <td>4</td>\n",
              "    </tr>\n",
              "    <tr>\n",
              "      <th>18</th>\n",
              "      <td>pink sapphire</td>\n",
              "      <td>3</td>\n",
              "    </tr>\n",
              "    <tr>\n",
              "      <th>19</th>\n",
              "      <td>carnelians</td>\n",
              "      <td>3</td>\n",
              "    </tr>\n",
              "    <tr>\n",
              "      <th>20</th>\n",
              "      <td>amazonite</td>\n",
              "      <td>3</td>\n",
              "    </tr>\n",
              "    <tr>\n",
              "      <th>21</th>\n",
              "      <td>malachite</td>\n",
              "      <td>3</td>\n",
              "    </tr>\n",
              "    <tr>\n",
              "      <th>22</th>\n",
              "      <td>rubies</td>\n",
              "      <td>2</td>\n",
              "    </tr>\n",
              "    <tr>\n",
              "      <th>23</th>\n",
              "      <td>aventurine</td>\n",
              "      <td>2</td>\n",
              "    </tr>\n",
              "    <tr>\n",
              "      <th>24</th>\n",
              "      <td>amethysts</td>\n",
              "      <td>2</td>\n",
              "    </tr>\n",
              "    <tr>\n",
              "      <th>25</th>\n",
              "      <td>coral</td>\n",
              "      <td>2</td>\n",
              "    </tr>\n",
              "    <tr>\n",
              "      <th>26</th>\n",
              "      <td>garnets</td>\n",
              "      <td>2</td>\n",
              "    </tr>\n",
              "    <tr>\n",
              "      <th>27</th>\n",
              "      <td>sapphire</td>\n",
              "      <td>2</td>\n",
              "    </tr>\n",
              "    <tr>\n",
              "      <th>28</th>\n",
              "      <td>diamonds.</td>\n",
              "      <td>2</td>\n",
              "    </tr>\n",
              "    <tr>\n",
              "      <th>29</th>\n",
              "      <td>pearl</td>\n",
              "      <td>2</td>\n",
              "    </tr>\n",
              "    <tr>\n",
              "      <th>30</th>\n",
              "      <td>citrine</td>\n",
              "      <td>1</td>\n",
              "    </tr>\n",
              "    <tr>\n",
              "      <th>31</th>\n",
              "      <td>obsidians</td>\n",
              "      <td>1</td>\n",
              "    </tr>\n",
              "    <tr>\n",
              "      <th>32</th>\n",
              "      <td>brown diamonds</td>\n",
              "      <td>1</td>\n",
              "    </tr>\n",
              "    <tr>\n",
              "      <th>33</th>\n",
              "      <td>platinum</td>\n",
              "      <td>1</td>\n",
              "    </tr>\n",
              "    <tr>\n",
              "      <th>34</th>\n",
              "      <td>spessartite garnet</td>\n",
              "      <td>1</td>\n",
              "    </tr>\n",
              "    <tr>\n",
              "      <th>35</th>\n",
              "      <td>amethyst</td>\n",
              "      <td>1</td>\n",
              "    </tr>\n",
              "    <tr>\n",
              "      <th>36</th>\n",
              "      <td>pink sapphires</td>\n",
              "      <td>1</td>\n",
              "    </tr>\n",
              "    <tr>\n",
              "      <th>37</th>\n",
              "      <td>aquamarines</td>\n",
              "      <td>1</td>\n",
              "    </tr>\n",
              "    <tr>\n",
              "      <th>38</th>\n",
              "      <td>gray mother-of-pearl</td>\n",
              "      <td>1</td>\n",
              "    </tr>\n",
              "    <tr>\n",
              "      <th>39</th>\n",
              "      <td>black ceramic</td>\n",
              "      <td>1</td>\n",
              "    </tr>\n",
              "    <tr>\n",
              "      <th>40</th>\n",
              "      <td>carnelian</td>\n",
              "      <td>1</td>\n",
              "    </tr>\n",
              "    <tr>\n",
              "      <th>41</th>\n",
              "      <td>peridots</td>\n",
              "      <td>1</td>\n",
              "    </tr>\n",
              "    <tr>\n",
              "      <th>42</th>\n",
              "      <td>chrysoprases</td>\n",
              "      <td>1</td>\n",
              "    </tr>\n",
              "  </tbody>\n",
              "</table>\n",
              "</div>"
            ],
            "text/plain": [
              "                 gem_type  count\n",
              "0                diamonds    431\n",
              "1                    onyx     90\n",
              "2                emeralds     70\n",
              "3                 diamond     61\n",
              "4             yellow gold     37\n",
              "5               pink gold     37\n",
              "6       tsavorite garnets     35\n",
              "7               sapphires     19\n",
              "8                 ceramic     17\n",
              "9                 lacquer     11\n",
              "10        mother-of-pearl      9\n",
              "11       tsavorite garnet      8\n",
              "12          black lacquer      8\n",
              "13  white mother-of-pearl      7\n",
              "14           lapis lazuli      5\n",
              "15             white gold      5\n",
              "16                spinels      4\n",
              "17            chrysoprase      4\n",
              "18          pink sapphire      3\n",
              "19             carnelians      3\n",
              "20              amazonite      3\n",
              "21              malachite      3\n",
              "22                 rubies      2\n",
              "23             aventurine      2\n",
              "24              amethysts      2\n",
              "25                  coral      2\n",
              "26                garnets      2\n",
              "27               sapphire      2\n",
              "28              diamonds.      2\n",
              "29                  pearl      2\n",
              "30                citrine      1\n",
              "31              obsidians      1\n",
              "32         brown diamonds      1\n",
              "33               platinum      1\n",
              "34     spessartite garnet      1\n",
              "35               amethyst      1\n",
              "36         pink sapphires      1\n",
              "37            aquamarines      1\n",
              "38   gray mother-of-pearl      1\n",
              "39          black ceramic      1\n",
              "40              carnelian      1\n",
              "41               peridots      1\n",
              "42           chrysoprases      1"
            ]
          },
          "metadata": {
            "tags": []
          },
          "execution_count": 18
        }
      ]
    },
    {
      "cell_type": "code",
      "metadata": {
        "id": "FBAnoNSD1MIt",
        "colab_type": "code",
        "colab": {}
      },
      "source": [
        "# Создаем словарь для цветов металлов \n",
        "color_dict2 = {'yellow gold': \"#fcc72d\", \n",
        "              'platinum': \"#e5e4e2\", \n",
        "              'pink gold': \"#e9cdd0\", \n",
        "              'white gold': \"#f9f3d1\", \n",
        "              'non-rhodiumized white gold': \"#C0C0C0\"}"
      ],
      "execution_count": 0,
      "outputs": []
    },
    {
      "cell_type": "code",
      "metadata": {
        "id": "RO0l4VSo1MI8",
        "colab_type": "code",
        "colab": {}
      },
      "source": [
        "cartier_category_metal = cartier.groupby('categorie')['metal'].value_counts().to_frame() # создаем новый датафрейм\n",
        "cartier_category_metal.columns = ['count']                                               # и тут же сортируем\n",
        "cartier_category_metal.reset_index(level = [0 , 1] , inplace=True)"
      ],
      "execution_count": 0,
      "outputs": []
    },
    {
      "cell_type": "code",
      "metadata": {
        "id": "Vcp-Liha1MJE",
        "colab_type": "code",
        "outputId": "aad8a738-273d-4704-d585-cba63e7a4462",
        "colab": {
          "base_uri": "https://localhost:8080/",
          "height": 297
        }
      },
      "source": [
        "cartier_category_metal.head(8) # проверяем"
      ],
      "execution_count": 21,
      "outputs": [
        {
          "output_type": "execute_result",
          "data": {
            "text/html": [
              "<div>\n",
              "<style scoped>\n",
              "    .dataframe tbody tr th:only-of-type {\n",
              "        vertical-align: middle;\n",
              "    }\n",
              "\n",
              "    .dataframe tbody tr th {\n",
              "        vertical-align: top;\n",
              "    }\n",
              "\n",
              "    .dataframe thead th {\n",
              "        text-align: right;\n",
              "    }\n",
              "</style>\n",
              "<table border=\"1\" class=\"dataframe\">\n",
              "  <thead>\n",
              "    <tr style=\"text-align: right;\">\n",
              "      <th></th>\n",
              "      <th>categorie</th>\n",
              "      <th>metal</th>\n",
              "      <th>count</th>\n",
              "    </tr>\n",
              "  </thead>\n",
              "  <tbody>\n",
              "    <tr>\n",
              "      <th>0</th>\n",
              "      <td>bracelets</td>\n",
              "      <td>white gold</td>\n",
              "      <td>61</td>\n",
              "    </tr>\n",
              "    <tr>\n",
              "      <th>1</th>\n",
              "      <td>bracelets</td>\n",
              "      <td>pink gold</td>\n",
              "      <td>52</td>\n",
              "    </tr>\n",
              "    <tr>\n",
              "      <th>2</th>\n",
              "      <td>bracelets</td>\n",
              "      <td>yellow gold</td>\n",
              "      <td>43</td>\n",
              "    </tr>\n",
              "    <tr>\n",
              "      <th>3</th>\n",
              "      <td>bracelets</td>\n",
              "      <td>platinum</td>\n",
              "      <td>4</td>\n",
              "    </tr>\n",
              "    <tr>\n",
              "      <th>4</th>\n",
              "      <td>earrings</td>\n",
              "      <td>white gold</td>\n",
              "      <td>54</td>\n",
              "    </tr>\n",
              "    <tr>\n",
              "      <th>5</th>\n",
              "      <td>earrings</td>\n",
              "      <td>pink gold</td>\n",
              "      <td>34</td>\n",
              "    </tr>\n",
              "    <tr>\n",
              "      <th>6</th>\n",
              "      <td>earrings</td>\n",
              "      <td>yellow gold</td>\n",
              "      <td>28</td>\n",
              "    </tr>\n",
              "    <tr>\n",
              "      <th>7</th>\n",
              "      <td>earrings</td>\n",
              "      <td>platinum</td>\n",
              "      <td>2</td>\n",
              "    </tr>\n",
              "  </tbody>\n",
              "</table>\n",
              "</div>"
            ],
            "text/plain": [
              "   categorie        metal  count\n",
              "0  bracelets   white gold     61\n",
              "1  bracelets    pink gold     52\n",
              "2  bracelets  yellow gold     43\n",
              "3  bracelets     platinum      4\n",
              "4   earrings   white gold     54\n",
              "5   earrings    pink gold     34\n",
              "6   earrings  yellow gold     28\n",
              "7   earrings     platinum      2"
            ]
          },
          "metadata": {
            "tags": []
          },
          "execution_count": 21
        }
      ]
    },
    {
      "cell_type": "code",
      "metadata": {
        "id": "dizGCNGJ1MJL",
        "colab_type": "code",
        "outputId": "add29600-a8b9-424e-ac86-f152cae700bd",
        "colab": {
          "base_uri": "https://localhost:8080/",
          "height": 442
        }
      },
      "source": [
        "plt.figure(figsize=(15, 7)) # строим диаграмму\n",
        "sns.barplot(x= \"categorie\", y= \"count\", hue= \"metal\", data= cartier_category_metal, \n",
        "            palette= color_dict2)\n",
        "plt.xlabel(\"Тип украшения\")\n",
        "plt.ylabel(\"Количество\")\n",
        "plt.legend(loc= \"upper left\")\n",
        "plt.show()"
      ],
      "execution_count": 22,
      "outputs": [
        {
          "output_type": "display_data",
          "data": {
            "image/png": "[encoded data removed]",
            "text/plain": [
              "<Figure size 1080x504 with 1 Axes>"
            ]
          },
          "metadata": {
            "tags": [],
            "needs_background": "light"
          }
        }
      ]
    },
    {
      "cell_type": "markdown",
      "metadata": {
        "id": "KAFStGDMvwA2",
        "colab_type": "text"
      },
      "source": [
        "Вывод: во всех типах украшений преобладают изделия из белого золота, изделий из розового золота меньше, из желтого - еще меньше"
      ]
    },
    {
      "cell_type": "markdown",
      "metadata": {
        "id": "O0i0Tglsy3eJ",
        "colab_type": "text"
      },
      "source": [
        "4) Исследуем зависимость дороговизны украшения от металла, из которого оно сделано"
      ]
    },
    {
      "cell_type": "code",
      "metadata": {
        "id": "9iYF0_3_1MJf",
        "colab_type": "code",
        "colab": {}
      },
      "source": [
        "cartier_gp1 = cartier.groupby([\"categorie\", \"metal\"])[\"price\"].mean().round(2).to_frame() # новый датафрейм\n",
        "cartier_gp1 = cartier_gp1.reset_index()                                                   # сортируем сначала по типу украшения, потом по металлу\n",
        "                                                                                          # а в колонку прайс записываем среднее значение"
      ],
      "execution_count": 0,
      "outputs": []
    },
    {
      "cell_type": "code",
      "metadata": {
        "id": "YlEfV0Dr1MJl",
        "colab_type": "code",
        "outputId": "b5cdbe10-3fec-435e-f682-2127e663faa9",
        "colab": {
          "base_uri": "https://localhost:8080/",
          "height": 297
        }
      },
      "source": [
        "cartier_gp1.head(8)"
      ],
      "execution_count": 24,
      "outputs": [
        {
          "output_type": "execute_result",
          "data": {
            "text/html": [
              "<div>\n",
              "<style scoped>\n",
              "    .dataframe tbody tr th:only-of-type {\n",
              "        vertical-align: middle;\n",
              "    }\n",
              "\n",
              "    .dataframe tbody tr th {\n",
              "        vertical-align: top;\n",
              "    }\n",
              "\n",
              "    .dataframe thead th {\n",
              "        text-align: right;\n",
              "    }\n",
              "</style>\n",
              "<table border=\"1\" class=\"dataframe\">\n",
              "  <thead>\n",
              "    <tr style=\"text-align: right;\">\n",
              "      <th></th>\n",
              "      <th>categorie</th>\n",
              "      <th>metal</th>\n",
              "      <th>price</th>\n",
              "    </tr>\n",
              "  </thead>\n",
              "  <tbody>\n",
              "    <tr>\n",
              "      <th>0</th>\n",
              "      <td>bracelets</td>\n",
              "      <td>pink gold</td>\n",
              "      <td>28741.92</td>\n",
              "    </tr>\n",
              "    <tr>\n",
              "      <th>1</th>\n",
              "      <td>bracelets</td>\n",
              "      <td>platinum</td>\n",
              "      <td>209250.00</td>\n",
              "    </tr>\n",
              "    <tr>\n",
              "      <th>2</th>\n",
              "      <td>bracelets</td>\n",
              "      <td>white gold</td>\n",
              "      <td>50363.28</td>\n",
              "    </tr>\n",
              "    <tr>\n",
              "      <th>3</th>\n",
              "      <td>bracelets</td>\n",
              "      <td>yellow gold</td>\n",
              "      <td>39504.42</td>\n",
              "    </tr>\n",
              "    <tr>\n",
              "      <th>4</th>\n",
              "      <td>earrings</td>\n",
              "      <td>pink gold</td>\n",
              "      <td>8146.47</td>\n",
              "    </tr>\n",
              "    <tr>\n",
              "      <th>5</th>\n",
              "      <td>earrings</td>\n",
              "      <td>platinum</td>\n",
              "      <td>117000.00</td>\n",
              "    </tr>\n",
              "    <tr>\n",
              "      <th>6</th>\n",
              "      <td>earrings</td>\n",
              "      <td>white gold</td>\n",
              "      <td>36350.56</td>\n",
              "    </tr>\n",
              "    <tr>\n",
              "      <th>7</th>\n",
              "      <td>earrings</td>\n",
              "      <td>yellow gold</td>\n",
              "      <td>11328.21</td>\n",
              "    </tr>\n",
              "  </tbody>\n",
              "</table>\n",
              "</div>"
            ],
            "text/plain": [
              "   categorie        metal      price\n",
              "0  bracelets    pink gold   28741.92\n",
              "1  bracelets     platinum  209250.00\n",
              "2  bracelets   white gold   50363.28\n",
              "3  bracelets  yellow gold   39504.42\n",
              "4   earrings    pink gold    8146.47\n",
              "5   earrings     platinum  117000.00\n",
              "6   earrings   white gold   36350.56\n",
              "7   earrings  yellow gold   11328.21"
            ]
          },
          "metadata": {
            "tags": []
          },
          "execution_count": 24
        }
      ]
    },
    {
      "cell_type": "code",
      "metadata": {
        "id": "2IlQ13A01MJp",
        "colab_type": "code",
        "outputId": "10004f8b-d129-4c3b-e543-d35af13712f7",
        "colab": {
          "base_uri": "https://localhost:8080/",
          "height": 442
        }
      },
      "source": [
        "plt.figure(figsize=(15, 7)) # строим диаграмму\n",
        "sns.barplot(x= 'categorie', y= 'price', hue= 'metal', data= cartier_gp1, palette= color_dict2)\n",
        "plt.xlabel('Тип украшения')\n",
        "plt.ylabel('Средняя цена в $')\n",
        "plt.legend(loc= \"upper left\")\n",
        "plt.show()"
      ],
      "execution_count": 35,
      "outputs": [
        {
          "output_type": "display_data",
          "data": {
            "image/png": "[encoded data removed]",
            "text/plain": [
              "<Figure size 1080x504 with 1 Axes>"
            ]
          },
          "metadata": {
            "tags": [],
            "needs_background": "light"
          }
        }
      ]
    },
    {
      "cell_type": "markdown",
      "metadata": {
        "id": "5B5-vj39z6gC",
        "colab_type": "text"
      },
      "source": [
        "Вывод: украшения из платины значительно дороже украшений из других металлов"
      ]
    },
    {
      "cell_type": "markdown",
      "metadata": {
        "id": "WdHtVeY20wzF",
        "colab_type": "text"
      },
      "source": [
        "5) Узнаем какие драгоценные камни чаще встречаются в разных категориях украшений и какие из них дороже"
      ]
    },
    {
      "cell_type": "code",
      "metadata": {
        "id": "C8tcLGRf1MJ1",
        "colab_type": "code",
        "colab": {}
      },
      "source": [
        "cartier_gp_gem = cartier.groupby('categorie')['gem'].value_counts().to_frame() # новый датафрейм\n",
        "cartier_gp_gem.columns = ['count']                                             # сортируем по типу украшений и преобладающим камням\n",
        "cartier_gp_gem.reset_index(level = [0 , 1] , inplace=True)\n",
        "cartier_gp_gem = cartier_gp_gem[cartier_gp_gem[\"gem\"] != 'NA']\n",
        "cartier_gp_gem=cartier_gp_gem.reset_index()"
      ],
      "execution_count": 0,
      "outputs": []
    },
    {
      "cell_type": "code",
      "metadata": {
        "id": "1e9RpSYO1MJ5",
        "colab_type": "code",
        "outputId": "4b4cece0-a523-4ae6-b27e-92b01b8ca9bf",
        "colab": {
          "base_uri": "https://localhost:8080/",
          "height": 204
        }
      },
      "source": [
        "cartier_gp_gem.head(5) # проверка"
      ],
      "execution_count": 28,
      "outputs": [
        {
          "output_type": "execute_result",
          "data": {
            "text/html": [
              "<div>\n",
              "<style scoped>\n",
              "    .dataframe tbody tr th:only-of-type {\n",
              "        vertical-align: middle;\n",
              "    }\n",
              "\n",
              "    .dataframe tbody tr th {\n",
              "        vertical-align: top;\n",
              "    }\n",
              "\n",
              "    .dataframe thead th {\n",
              "        text-align: right;\n",
              "    }\n",
              "</style>\n",
              "<table border=\"1\" class=\"dataframe\">\n",
              "  <thead>\n",
              "    <tr style=\"text-align: right;\">\n",
              "      <th></th>\n",
              "      <th>index</th>\n",
              "      <th>categorie</th>\n",
              "      <th>gem</th>\n",
              "      <th>count</th>\n",
              "    </tr>\n",
              "  </thead>\n",
              "  <tbody>\n",
              "    <tr>\n",
              "      <th>0</th>\n",
              "      <td>0</td>\n",
              "      <td>bracelets</td>\n",
              "      <td>diamonds</td>\n",
              "      <td>68</td>\n",
              "    </tr>\n",
              "    <tr>\n",
              "      <th>1</th>\n",
              "      <td>2</td>\n",
              "      <td>bracelets</td>\n",
              "      <td>emeralds</td>\n",
              "      <td>15</td>\n",
              "    </tr>\n",
              "    <tr>\n",
              "      <th>2</th>\n",
              "      <td>3</td>\n",
              "      <td>bracelets</td>\n",
              "      <td>diamond</td>\n",
              "      <td>10</td>\n",
              "    </tr>\n",
              "    <tr>\n",
              "      <th>3</th>\n",
              "      <td>4</td>\n",
              "      <td>bracelets</td>\n",
              "      <td>tsavorite garnets</td>\n",
              "      <td>7</td>\n",
              "    </tr>\n",
              "    <tr>\n",
              "      <th>4</th>\n",
              "      <td>5</td>\n",
              "      <td>bracelets</td>\n",
              "      <td>ceramic</td>\n",
              "      <td>5</td>\n",
              "    </tr>\n",
              "  </tbody>\n",
              "</table>\n",
              "</div>"
            ],
            "text/plain": [
              "   index  categorie                gem  count\n",
              "0      0  bracelets           diamonds     68\n",
              "1      2  bracelets           emeralds     15\n",
              "2      3  bracelets            diamond     10\n",
              "3      4  bracelets  tsavorite garnets      7\n",
              "4      5  bracelets            ceramic      5"
            ]
          },
          "metadata": {
            "tags": []
          },
          "execution_count": 28
        }
      ]
    },
    {
      "cell_type": "code",
      "metadata": {
        "id": "-4h9gv3g1MJ9",
        "colab_type": "code",
        "outputId": "917681e2-d58a-479b-a5b6-36f4fd209dcf",
        "colab": {
          "base_uri": "https://localhost:8080/",
          "height": 442
        }
      },
      "source": [
        "plt.figure(figsize=(15, 7)) # строим график по нашему новому датафрейму (как и до этого)\n",
        "sns.barplot(x= 'categorie', y= 'count', hue= 'gem', data= cartier_gp_gem.drop(np.where(cartier_gp_gem['count'] < 10)[0]))\n",
        "plt.xlabel('Тип украшения')\n",
        "plt.ylabel('Количество')\n",
        "plt.legend(ncol=4, loc= 'upper left')\n",
        "plt.show()"
      ],
      "execution_count": 30,
      "outputs": [
        {
          "output_type": "display_data",
          "data": {
            "image/png": "[encoded data removed]",
            "text/plain": [
              "<Figure size 1080x504 with 1 Axes>"
            ]
          },
          "metadata": {
            "tags": [],
            "needs_background": "light"
          }
        }
      ]
    },
    {
      "cell_type": "markdown",
      "metadata": {
        "id": "OFBzkYkJ8tEH",
        "colab_type": "text"
      },
      "source": [
        "Вывод: во всех категориях украшений преобладают бриллианты\n",
        "\n",
        "(рассматривая частоту встречаемости, мы брали только самые распространенные камни (изделий с использованием камня > 10))"
      ]
    },
    {
      "cell_type": "code",
      "metadata": {
        "id": "3ubIlHw91MKC",
        "colab_type": "code",
        "colab": {}
      },
      "source": [
        "cartier_gp1_gem = cartier.groupby([\"categorie\", \"gem\"])[\"price\"].mean().round(2).to_frame()\n",
        "cartier_gp1_gem = cartier_gp1_gem.reset_index()\n",
        "cartier_gp1_gem = cartier_gp1_gem[cartier_gp1_gem[\"gem\"] != 'NA']\n",
        "cartier_gp1_gem = cartier_gp1_gem.reset_index()"
      ],
      "execution_count": 0,
      "outputs": []
    },
    {
      "cell_type": "code",
      "metadata": {
        "id": "1RAvZjjm1MKH",
        "colab_type": "code",
        "outputId": "bbc62a15-6b61-4119-8bd9-6fcc91f8118b",
        "colab": {
          "base_uri": "https://localhost:8080/",
          "height": 297
        }
      },
      "source": [
        "cartier_gp1_gem.head(8)"
      ],
      "execution_count": 32,
      "outputs": [
        {
          "output_type": "execute_result",
          "data": {
            "text/html": [
              "<div>\n",
              "<style scoped>\n",
              "    .dataframe tbody tr th:only-of-type {\n",
              "        vertical-align: middle;\n",
              "    }\n",
              "\n",
              "    .dataframe tbody tr th {\n",
              "        vertical-align: top;\n",
              "    }\n",
              "\n",
              "    .dataframe thead th {\n",
              "        text-align: right;\n",
              "    }\n",
              "</style>\n",
              "<table border=\"1\" class=\"dataframe\">\n",
              "  <thead>\n",
              "    <tr style=\"text-align: right;\">\n",
              "      <th></th>\n",
              "      <th>index</th>\n",
              "      <th>categorie</th>\n",
              "      <th>gem</th>\n",
              "      <th>price</th>\n",
              "    </tr>\n",
              "  </thead>\n",
              "  <tbody>\n",
              "    <tr>\n",
              "      <th>0</th>\n",
              "      <td>1</td>\n",
              "      <td>bracelets</td>\n",
              "      <td>amazonite</td>\n",
              "      <td>56000.00</td>\n",
              "    </tr>\n",
              "    <tr>\n",
              "      <th>1</th>\n",
              "      <td>2</td>\n",
              "      <td>bracelets</td>\n",
              "      <td>aquamarines</td>\n",
              "      <td>8250.00</td>\n",
              "    </tr>\n",
              "    <tr>\n",
              "      <th>2</th>\n",
              "      <td>3</td>\n",
              "      <td>bracelets</td>\n",
              "      <td>black lacquer</td>\n",
              "      <td>35000.00</td>\n",
              "    </tr>\n",
              "    <tr>\n",
              "      <th>3</th>\n",
              "      <td>4</td>\n",
              "      <td>bracelets</td>\n",
              "      <td>ceramic</td>\n",
              "      <td>13258.00</td>\n",
              "    </tr>\n",
              "    <tr>\n",
              "      <th>4</th>\n",
              "      <td>5</td>\n",
              "      <td>bracelets</td>\n",
              "      <td>chrysoprase</td>\n",
              "      <td>68500.00</td>\n",
              "    </tr>\n",
              "    <tr>\n",
              "      <th>5</th>\n",
              "      <td>6</td>\n",
              "      <td>bracelets</td>\n",
              "      <td>diamond</td>\n",
              "      <td>2052.00</td>\n",
              "    </tr>\n",
              "    <tr>\n",
              "      <th>6</th>\n",
              "      <td>7</td>\n",
              "      <td>bracelets</td>\n",
              "      <td>diamonds</td>\n",
              "      <td>54253.68</td>\n",
              "    </tr>\n",
              "    <tr>\n",
              "      <th>7</th>\n",
              "      <td>8</td>\n",
              "      <td>bracelets</td>\n",
              "      <td>emeralds</td>\n",
              "      <td>168426.67</td>\n",
              "    </tr>\n",
              "  </tbody>\n",
              "</table>\n",
              "</div>"
            ],
            "text/plain": [
              "   index  categorie            gem      price\n",
              "0      1  bracelets      amazonite   56000.00\n",
              "1      2  bracelets    aquamarines    8250.00\n",
              "2      3  bracelets  black lacquer   35000.00\n",
              "3      4  bracelets        ceramic   13258.00\n",
              "4      5  bracelets    chrysoprase   68500.00\n",
              "5      6  bracelets        diamond    2052.00\n",
              "6      7  bracelets       diamonds   54253.68\n",
              "7      8  bracelets       emeralds  168426.67"
            ]
          },
          "metadata": {
            "tags": []
          },
          "execution_count": 32
        }
      ]
    },
    {
      "cell_type": "code",
      "metadata": {
        "id": "JOXO2ahZ1MKL",
        "colab_type": "code",
        "outputId": "2f47e422-0e47-4135-fa96-58095d1f5b4b",
        "colab": {
          "base_uri": "https://localhost:8080/",
          "height": 442
        }
      },
      "source": [
        "plt.figure(figsize=(15, 7))\n",
        "sns.barplot(x= 'categorie', y= 'price', hue= 'gem', \n",
        "            data= cartier_gp1_gem.drop(np.where(cartier_gp1_gem['price'] < 30000)[0]) , \n",
        "            palette = sns.color_palette(\"Set3\"))\n",
        "plt.xlabel('Тип украшения')\n",
        "plt.ylabel('Средняя цена в $')\n",
        "plt.legend(ncol=4, loc= 'upper left')\n",
        "plt.show()"
      ],
      "execution_count": 33,
      "outputs": [
        {
          "output_type": "display_data",
          "data": {
            "image/png": "[encoded data removed]",
            "text/plain": [
              "<Figure size 1080x504 with 1 Axes>"
            ]
          },
          "metadata": {
            "tags": [],
            "needs_background": "light"
          }
        }
      ]
    },
    {
      "cell_type": "markdown",
      "metadata": {
        "id": "s9JKDj_02z0J",
        "colab_type": "text"
      },
      "source": [
        "Вывод: самые дорогие серьги и ожерелья включают в себя рубины, самые дорогие браслеты из изумрудов, а кольца из изумрудов и сапфиров\n",
        "\n",
        "(рассматривая цены, мы брали только камни, входящие в украшения с самой высокой средней стоимостью (ср. цена > 30k $))"
      ]
    },
    {
      "cell_type": "markdown",
      "metadata": {
        "id": "txEGeYhF5ngV",
        "colab_type": "text"
      },
      "source": [
        "Таким образом, самые дорогие украшения в каждой категории: \n",
        "       \n",
        " - ожерелья из платины, украшенные рубинами;\n",
        " - браслеты из платины, украшенные изумрудами;\n",
        " - серьги из платины, украшенные рубинами;\n",
        " - кольца из любого металла, украшеные сапфирами или изумрудами\n",
        "Во всех категориях чаще встречаются ювелирные изделия из белого золота, украшенные бриллиантами"
      ]
    },
    {
      "cell_type": "markdown",
      "metadata": {
        "id": "KoobUo4a6Js-",
        "colab_type": "text"
      },
      "source": [
        "Ну и в довершение посмотрим какое украшение самое дорогое, а какое самое дешевое"
      ]
    },
    {
      "cell_type": "code",
      "metadata": {
        "id": "LlNcweq91MKz",
        "colab_type": "code",
        "outputId": "b4cf9f70-7981-4a44-f159-863e8765f11f",
        "colab": {
          "base_uri": "https://localhost:8080/",
          "height": 170
        }
      },
      "source": [
        "# общие сведения о датасете\n",
        "print(cartier[cartier['price']==cartier['price'].max()], end = '\\n\\n\\n') # самое дорогое украшение\n",
        "print(cartier[cartier['price']==cartier['price'].min()], end = '\\n\\n\\n') # самое дешевое\n",
        "int(cartier.price.mean()) # средняя цена среди всех украшений"
      ],
      "execution_count": 34,
      "outputs": [
        {
          "output_type": "stream",
          "text": [
            "     categorie     price       metal       gem second_gem third_gem fourth_gem\n",
            "533  necklaces  370000.0  white gold  diamonds         NA        NA         NA\n",
            "\n",
            "\n",
            "    categorie  price        metal gem second_gem third_gem fourth_gem\n",
            "579  earrings  500.0  yellow gold  NA         NA        NA         NA\n",
            "\n",
            "\n"
          ],
          "name": "stdout"
        },
        {
          "output_type": "execute_result",
          "data": {
            "text/plain": [
              "27057"
            ]
          },
          "metadata": {
            "tags": []
          },
          "execution_count": 34
        }
      ]
    },
    {
      "cell_type": "code",
      "metadata": {
        "id": "g73q1dY81MK4",
        "colab_type": "code",
        "colab": {}
      },
      "source": [
        ""
      ],
      "execution_count": 0,
      "outputs": []
    }
  ]
}